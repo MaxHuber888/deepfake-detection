{
 "cells": [
  {
   "cell_type": "code",
   "execution_count": null,
   "id": "initial_id",
   "metadata": {
    "collapsed": true
   },
   "outputs": [],
   "source": [
    "from src.helpers import get_frames_from_video_file, to_gif\n",
    "\n",
    "#frames = get_frames_from_video_file(\"data/vids/real/10 Times Keanu Reeves BROKE the Internet.mp4\", 100)\n",
    "#to_gif(frames)"
   ]
  },
  {
   "cell_type": "code",
   "outputs": [],
   "source": [
    "# Batch size * number of frames * height * width * channels"
   ],
   "metadata": {
    "collapsed": false
   },
   "id": "3472717d667c9090",
   "execution_count": null
  },
  {
   "cell_type": "code",
   "outputs": [],
   "source": [
    "import tensorflow as tf\n",
    "from pathlib import Path\n",
    "from src.datagen import FrameGenerator\n",
    "\n",
    "# DEFINE TRAIN/TEST DIRECTORIES\n",
    "train_p = Path('data/vids/split/train')\n",
    "test_p = Path('data/vids/split/test')\n",
    "\n",
    "# CREATE TRAINING DATASET\n",
    "output_signature = (tf.TensorSpec(shape = (None, None, None, 3), dtype = tf.float32), tf.TensorSpec(shape = (1), dtype = tf.int16))\n",
    "train_ds = tf.data.Dataset.from_generator(FrameGenerator(train_p, 10, training=True),output_signature = output_signature)\n",
    "\n",
    "# CREATE TESTING DATASET\n",
    "test_ds = tf.data.Dataset.from_generator(FrameGenerator(test_p, 10, training=False),output_signature = output_signature)\n",
    "\n",
    "# VERIFY DATA\n",
    "train_frames, train_labels = next(iter(train_ds))\n",
    "print(f'Shape of training set of frames: {train_frames.shape}')\n",
    "print(f'Shape of training labels: {train_labels.shape}')\n",
    "\n",
    "test_frames, test_labels = next(iter(test_ds))\n",
    "print(f'Shape of validation set of frames: {test_frames.shape}')\n",
    "print(f'Shape of validation labels: {test_labels.shape}')"
   ],
   "metadata": {
    "collapsed": false
   },
   "id": "cd3792dd7fafbefb",
   "execution_count": null
  },
  {
   "cell_type": "code",
   "outputs": [],
   "source": [
    "from src.models import get_mesonet_model\n",
    "from src.train import prep_and_train_model\n",
    "\n",
    "mesonet = get_mesonet_model()\n",
    "\n",
    "history, trained_model = prep_and_train_model(\n",
    "    model=mesonet,\n",
    "    optim=\"adam\",\n",
    "    train_data=train_ds,\n",
    "    test_data=test_ds,\n",
    "    epochs=1,\n",
    "    batch_size=10\n",
    ")"
   ],
   "metadata": {
    "collapsed": false
   },
   "id": "3aea33ee5a19c459",
   "execution_count": null
  },
  {
   "cell_type": "code",
   "outputs": [],
   "source": [
    "import matplotlib.pyplot as plt\n",
    "\n",
    "# NOTE: ONLY WORKS FOR MULTIPLE EPOCHS\n",
    "\n",
    "# summarize history for accuracy\n",
    "plt.plot(history.history['accuracy'])\n",
    "plt.plot(history.history['val_accuracy'])\n",
    "plt.title('model accuracy')\n",
    "plt.ylabel('accuracy')\n",
    "plt.xlabel('epoch')\n",
    "plt.legend(['train', 'test'], loc='upper left')\n",
    "plt.show()\n",
    "# summarize history for loss\n",
    "plt.plot(history.history['loss'])\n",
    "plt.plot(history.history['val_loss'])\n",
    "plt.title('model loss')\n",
    "plt.ylabel('loss')\n",
    "plt.xlabel('epoch')\n",
    "plt.legend(['train', 'test'], loc='upper left')\n",
    "plt.show()"
   ],
   "metadata": {
    "collapsed": false
   },
   "id": "17d4e1eea076a95",
   "execution_count": null
  },
  {
   "cell_type": "code",
   "outputs": [],
   "source": [
    "from src.models import get_mouthnet_model\n",
    "from src.train import prep_and_train_model\n",
    "\n",
    "#####################################################\n",
    "# WARNING - THIS MODEL HAS CONSIDERABLY MORE PARAMETERS\n",
    "# IT WILL TAKE WAY LONGER TO TRAIN\n",
    "# TRY IMPLEMENTING PARALLEL WORKERS\n",
    "#####################################################\n",
    "\n",
    "mouthnet = get_mouthnet_model()\n",
    "\n",
    "history, trained_model = prep_and_train_model(\n",
    "    model=mouthnet,\n",
    "    optim=\"sgd\",\n",
    "    train_data=train_ds,\n",
    "    test_data=test_ds,\n",
    "    epochs=1,\n",
    "    batch_size=10\n",
    ")"
   ],
   "metadata": {
    "collapsed": false
   },
   "id": "6d1c530e02b061b",
   "execution_count": null
  }
 ],
 "metadata": {
  "kernelspec": {
   "display_name": "Python 3",
   "language": "python",
   "name": "python3"
  },
  "language_info": {
   "codemirror_mode": {
    "name": "ipython",
    "version": 2
   },
   "file_extension": ".py",
   "mimetype": "text/x-python",
   "name": "python",
   "nbconvert_exporter": "python",
   "pygments_lexer": "ipython2",
   "version": "2.7.6"
  }
 },
 "nbformat": 4,
 "nbformat_minor": 5
}
