{
 "cells": [
  {
   "cell_type": "markdown",
   "metadata": {},
   "source": [
    "### SET PARAMETERS"
   ]
  },
  {
   "cell_type": "code",
   "execution_count": 1,
   "metadata": {},
   "outputs": [],
   "source": [
    "from pathlib import Path\n",
    "\n",
    "# DATA SETTINGS\n",
    "TRAIN_PATH = Path('data/vids/split/train')\n",
    "TEST_PATH = Path('data/vids/split/test')\n",
    "IMG_SIZE = 256\n",
    "\n",
    "# IF USING FrameGenerator\n",
    "FRAMES_PER_VIDEO = 100\n",
    "\n",
    "# IF USING SamplingFrameGenerator\n",
    "SAMPLES_PER_VIDEO = 10\n",
    "FRAMES_PER_SAMPLE = 10\n",
    "\n",
    "# TRAINING SETTINGS\n",
    "EPOCHS = 10\n",
    "BATCH_SIZE = 2"
   ]
  },
  {
   "cell_type": "markdown",
   "metadata": {},
   "source": [
    "### LOAD DATA (Sampling Frame Generator)"
   ]
  },
  {
   "cell_type": "code",
   "execution_count": 2,
   "metadata": {},
   "outputs": [
    {
     "name": "stderr",
     "output_type": "stream",
     "text": [
      "Getting Optical Flow For Files: 100%|██████████| 2/2 [00:00<?, ?it/s]\n",
      "Getting Optical Flow For Files: 100%|██████████| 2/2 [00:00<?, ?it/s]\n"
     ]
    },
    {
     "name": "stdout",
     "output_type": "stream",
     "text": [
      "Detected Labels:  {'fake': 0, 'real': 1}\n",
      "Detected Labels:  {'fake': 0, 'real': 1}\n",
      "Shape of training set of frames: (2, 100, 256, 256, 3)\n",
      "Shape of training labels: (2, 1)\n",
      "Shape of validation set of frames: (2, 100, 256, 256, 3)\n",
      "Shape of validation labels: (2, 1)\n"
     ]
    }
   ],
   "source": [
    "import tensorflow as tf\n",
    "from src.datagen import FrameGenerator\n",
    "from src.convert_to_optical_flow import process_directory\n",
    "\n",
    "\n",
    "# PROCESS FILES IN ORDER TO PASS THEM TO OPTICAL MODEL\n",
    "\n",
    "# directory_path = \"path_to_video_directory\"\n",
    "process_directory(TRAIN_PATH)\n",
    "process_directory(TEST_PATH)\n",
    "\n",
    "\n",
    "# CREATE TRAINING/TEST DATASETS\n",
    "\n",
    "train_generator = FrameGenerator(TRAIN_PATH, FRAMES_PER_VIDEO, (IMG_SIZE, IMG_SIZE), training=True)\n",
    "test_generator = FrameGenerator(TEST_PATH, FRAMES_PER_VIDEO, (IMG_SIZE, IMG_SIZE), training=False)\n",
    "output_signature = (tf.TensorSpec(shape = (FRAMES_PER_VIDEO, 256, 256, 3), dtype = tf.float32), tf.TensorSpec(shape = (1), dtype = tf.int16))\n",
    "\n",
    "train_ds = tf.data.Dataset.from_generator(train_generator,output_signature = output_signature)\n",
    "\n",
    "test_ds = tf.data.Dataset.from_generator(test_generator,output_signature = output_signature)\n",
    "\n",
    "# ADD BATCH DIMENSION\n",
    "train_ds = train_ds.batch(BATCH_SIZE)\n",
    "test_ds = test_ds.batch(BATCH_SIZE)\n",
    "\n",
    "# VERIFY DATA HAS CORRECT SHAPE\n",
    "train_frames, train_labels = next(iter(train_ds))\n",
    "print(f'Shape of training set of frames: {train_frames.shape}')\n",
    "print(f'Shape of training labels: {train_labels.shape}')\n",
    "\n",
    "test_frames, test_labels = next(iter(test_ds))\n",
    "print(f'Shape of validation set of frames: {test_frames.shape}')\n",
    "print(f'Shape of validation labels: {test_labels.shape}')"
   ]
  },
  {
   "cell_type": "markdown",
   "metadata": {},
   "source": [
    "### INITIALIZE/TRAIN (Optical Flow Model)"
   ]
  },
  {
   "cell_type": "code",
   "execution_count": null,
   "metadata": {},
   "outputs": [],
   "source": [
    "from src.helpers import save_history\n",
    "from models import get_optical_model\n",
    "from keras.optimizers import Adam\n",
    "from keras.callbacks import ModelCheckpoint\n",
    "from time import perf_counter\n",
    "\n",
    "# LOAD NEW MODEL\n",
    "model = get_optical_model()\n",
    "\n",
    "# VERIFY MODEL\n",
    "model.summary()\n",
    "\n",
    "MODEL_NAME = \"OPTICALFLOW_Model\"\n",
    "\n",
    "\n",
    "# INITIALIZE OPTIMIZER\n",
    "optimizer = Adam()\n",
    "\n",
    "start = perf_counter()\n",
    "\n",
    "# COMPILE MODEL FOR TRAINING\n",
    "model.compile(loss=\"binary_crossentropy\", optimizer=optimizer, metrics=[\"accuracy\"])\n",
    "\n",
    "# Saves the model whenever a new max val accuracy is reached\n",
    "model_checkpoint_callback = ModelCheckpoint(\n",
    "    filepath=f\"saved_models/{MODEL_NAME}.keras\",\n",
    "    monitor='val_accuracy',\n",
    "    mode='max',\n",
    "    save_best_only=True)\n",
    "\n",
    "# TRAIN\n",
    "history = model.fit(\n",
    "    train_ds,\n",
    "    batch_size=BATCH_SIZE,\n",
    "    epochs=EPOCHS,\n",
    "    validation_data=test_ds,\n",
    "    shuffle=True,\n",
    "    callbacks=[model_checkpoint_callback]\n",
    ")\n",
    "\n",
    "print(f\"TOTAL TRAIN TIME: {perf_counter() - start}\")\n",
    "\n",
    "# SAVE HISTORY TO FILE\n",
    "save_history(history, MODEL_NAME)"
   ]
  },
  {
   "cell_type": "markdown",
   "metadata": {},
   "source": [
    "### VISUALIZE TRAINING HISTORY"
   ]
  },
  {
   "cell_type": "code",
   "execution_count": null,
   "metadata": {},
   "outputs": [],
   "source": [
    "import matplotlib.pyplot as plt\n",
    "import matplotlib as matplotlib\n",
    "\n",
    "# PLOT ACCURACY\n",
    "plt.plot(range(1, EPOCHS + 1), history.history['accuracy'])\n",
    "plt.plot(range(1, EPOCHS + 1, 1),history.history['val_accuracy'])\n",
    "plt.title('Model Accuracy')\n",
    "plt.ylabel('Accuracy')\n",
    "plt.xlabel('Epoch')\n",
    "plt.legend(['Train', 'Test'], loc='upper left')\n",
    "plt.show()\n",
    "# PLOT LOSS\n",
    "plt.plot(range(1, EPOCHS + 1),history.history['loss'])\n",
    "plt.plot(range(1, EPOCHS + 1),history.history['val_loss'])\n",
    "plt.title('Model Loss')\n",
    "plt.ylabel('Loss')\n",
    "plt.xlabel('Epoch')\n",
    "plt.legend(['Train', 'Test'], loc='upper left')\n",
    "plt.show()"
   ]
  }
 ],
 "metadata": {
  "kernelspec": {
   "display_name": "Python 3",
   "language": "python",
   "name": "python3"
  },
  "language_info": {
   "codemirror_mode": {
    "name": "ipython",
    "version": 3
   },
   "file_extension": ".py",
   "mimetype": "text/x-python",
   "name": "python",
   "nbconvert_exporter": "python",
   "pygments_lexer": "ipython3",
   "version": "3.11.8"
  }
 },
 "nbformat": 4,
 "nbformat_minor": 2
}
