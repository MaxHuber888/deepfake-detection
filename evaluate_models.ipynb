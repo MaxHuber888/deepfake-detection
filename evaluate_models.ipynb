{
 "cells": [
  {
   "cell_type": "code",
   "execution_count": 21,
   "metadata": {},
   "outputs": [],
   "source": [
    "from pathlib import Path\n",
    "\n",
    "# DATA SETTINGS\n",
    "TEST_PATH = Path('data/vids/src_data')\n",
    "MODEL_PATH = Path(\"\")\n",
    "IMG_SIZE = 256\n",
    "\n",
    "# IF USING SamplingFrameGenerator\n",
    "SAMPLES_PER_VIDEO_MESO = 2\n",
    "FRAMES_PER_SAMPLE_MESO = 15\n",
    "\n",
    "# MOUTHNET MODEL\n",
    "# IF USING FrameGenerator\n",
    "FRAMES_PER_VIDEO_MOUTH = 30\n",
    "\n",
    "# IF USING SamplingFrameGenerator\n",
    "SAMPLES_PER_VIDEO_MOUTH = 2\n",
    "FRAMES_PER_SAMPLE_MOUTH = 15\n",
    "\n",
    "# TESTING SETTINGS\n",
    "BATCH_SIZE = 2\n",
    "BATCH_DIMSENSION = True"
   ]
  },
  {
   "cell_type": "markdown",
   "metadata": {},
   "source": [
    "### SAMPLE FRAME GENERATOR"
   ]
  },
  {
   "cell_type": "code",
   "execution_count": 5,
   "metadata": {},
   "outputs": [
    {
     "name": "stdout",
     "output_type": "stream",
     "text": [
      "Detected Labels:  {'fake': 0, 'real': 1}\n",
      "Shape of validation set of frames: (2, 30, 256, 256, 3)\n",
      "Shape of validation labels: (2, 1)\n"
     ]
    }
   ],
   "source": [
    "import tensorflow as tf\n",
    "from src.datagen import SamplingFrameGenerator\n",
    "\n",
    "output_signature = (tf.TensorSpec(shape = (None, 256, 256, 3), \n",
    "                                  dtype = tf.float32), tf.TensorSpec(shape = (1), dtype = tf.int16))\n",
    "\n",
    "if BATCH_DIMSENSION:\n",
    "    output_signature = (tf.TensorSpec(shape = (30, 256, 256, 3), \n",
    "                                    dtype = tf.float32), tf.TensorSpec(shape = (1), dtype = tf.int16))\n",
    "\n",
    "# CREATE TESTING DATASET\n",
    "test_ds_sample = tf.data.Dataset.from_generator(SamplingFrameGenerator(TEST_PATH, 2, 15, (IMG_SIZE, IMG_SIZE), training=False),output_signature = output_signature)\n",
    "\n",
    "# ADD BATCH DIMENSION (IF USING TIME DIM)\n",
    "if BATCH_DIMSENSION:\n",
    "    test_ds_sample = test_ds_sample.batch(BATCH_SIZE)\n",
    "\n",
    "# VERIFY DATA HAS CORRECT SHAPE\n",
    "\n",
    "test_frames, test_labels = next(iter(test_ds_sample))\n",
    "print(f'Shape of validation set of frames: {test_frames.shape}')\n",
    "print(f'Shape of validation labels: {test_labels.shape}')"
   ]
  },
  {
   "cell_type": "code",
   "execution_count": 6,
   "metadata": {},
   "outputs": [
    {
     "name": "stdout",
     "output_type": "stream",
     "text": [
      "\u001b[1m148/148\u001b[0m \u001b[32m━━━━━━━━━━━━━━━━━━━━\u001b[0m\u001b[37m\u001b[0m \u001b[1m196s\u001b[0m 1s/step - accuracy: 0.8294 - loss: 0.6416\n"
     ]
    },
    {
     "name": "stderr",
     "output_type": "stream",
     "text": [
      "c:\\CS5100\\deepfake-detection\\.conda\\Lib\\contextlib.py:158: UserWarning: Your input ran out of data; interrupting training. Make sure that your dataset or generator can generate at least `steps_per_epoch * epochs` batches. You may need to use the `.repeat()` function when building your dataset.\n",
      "  self.gen.throw(typ, value, traceback)\n"
     ]
    },
    {
     "data": {
      "text/plain": [
       "[0.4110814929008484, 0.8779661059379578]"
      ]
     },
     "execution_count": 6,
     "metadata": {},
     "output_type": "execute_result"
    }
   ],
   "source": [
    "from keras.models import load_model\n",
    "\n",
    "model = load_model(f\"saved_models\\RNN_GeneralFrame.keras\")\n",
    "model.evaluate(test_ds_sample)"
   ]
  },
  {
   "cell_type": "markdown",
   "metadata": {},
   "source": [
    "### REGULAR FRAME GENERATOR"
   ]
  },
  {
   "cell_type": "code",
   "execution_count": 7,
   "metadata": {},
   "outputs": [
    {
     "name": "stdout",
     "output_type": "stream",
     "text": [
      "Detected Labels:  {'fake': 0, 'real': 1}\n",
      "Shape of validation set of frames: (2, 30, 256, 256, 3)\n",
      "Shape of validation labels: (2, 1)\n"
     ]
    }
   ],
   "source": [
    "import tensorflow as tf\n",
    "from src.datagen import FrameGenerator\n",
    "\n",
    "output_signature = (tf.TensorSpec(shape = (None, 256, 256, 3), \n",
    "                                  dtype = tf.float32), tf.TensorSpec(shape = (1), dtype = tf.int16))\n",
    "\n",
    "if BATCH_DIMSENSION:\n",
    "    output_signature = (tf.TensorSpec(shape = (30, 256, 256, 3), \n",
    "                                  dtype = tf.float32), tf.TensorSpec(shape = (1), dtype = tf.int16))\n",
    "# CREATE TESTING DATASET\n",
    "test_ds_regular = tf.data.Dataset.from_generator(FrameGenerator(TEST_PATH, 30, (IMG_SIZE, IMG_SIZE), training=False), output_signature = output_signature)\n",
    "\n",
    "\n",
    "# ADD BATCH DIMENSION (IF USING TIME DIM)\n",
    "if BATCH_DIMSENSION:\n",
    "    test_ds_regular = test_ds_regular.batch(BATCH_SIZE)\n",
    "\n",
    "# VERIFY DATA HAS CORRECT SHAPE\n",
    "\n",
    "test_frames, test_labels = next(iter(test_ds_regular))\n",
    "print(f'Shape of validation set of frames: {test_frames.shape}')\n",
    "print(f'Shape of validation labels: {test_labels.shape}')"
   ]
  },
  {
   "cell_type": "code",
   "execution_count": 8,
   "metadata": {},
   "outputs": [
    {
     "name": "stdout",
     "output_type": "stream",
     "text": [
      "\u001b[1m148/148\u001b[0m \u001b[32m━━━━━━━━━━━━━━━━━━━━\u001b[0m\u001b[37m\u001b[0m \u001b[1m261s\u001b[0m 2s/step - accuracy: 0.8322 - loss: 0.6653\n"
     ]
    },
    {
     "data": {
      "text/plain": [
       "[0.40201061964035034, 0.8779661059379578]"
      ]
     },
     "execution_count": 8,
     "metadata": {},
     "output_type": "execute_result"
    }
   ],
   "source": [
    "from keras.models import load_model\n",
    "\n",
    "model = load_model(f\"saved_models\\RNN_GeneralFrame.keras\")\n",
    "model.evaluate(test_ds_regular)"
   ]
  },
  {
   "cell_type": "code",
   "execution_count": null,
   "metadata": {},
   "outputs": [],
   "source": []
  },
  {
   "cell_type": "code",
   "execution_count": null,
   "metadata": {},
   "outputs": [],
   "source": []
  },
  {
   "cell_type": "code",
   "execution_count": 19,
   "metadata": {},
   "outputs": [
    {
     "name": "stdout",
     "output_type": "stream",
     "text": [
      "Detected Labels:  {'fake': 0, 'real': 1}\n",
      "Shape of validation set of frames: (1, 30, 256, 256, 3)\n",
      "Shape of validation labels: (1, 1)\n"
     ]
    }
   ],
   "source": [
    "import tensorflow as tf\n",
    "from src.datagen import FrameGenerator\n",
    "\n",
    "output_signature = (tf.TensorSpec(shape = (30, 256, 256, 3), \n",
    "                                  dtype = tf.float32), tf.TensorSpec(shape = (1), dtype = tf.int16))\n",
    "\n",
    "\n",
    "# CREATE TESTING DATASET\n",
    "test_ds = tf.data.Dataset.from_generator(FrameGenerator(TEST_PATH, 30, (IMG_SIZE, IMG_SIZE), training=False), output_signature = output_signature)\n",
    "\n",
    "\n",
    "# ADD BATCH DIMENSION (IF USING TIME DIM)\n",
    "if BATCH_DIMSENSION:\n",
    "    test_ds = test_ds.batch(1)\n",
    "\n",
    "# VERIFY DATA HAS CORRECT SHAPE\n",
    "\n",
    "test_frames, test_labels = next(iter(test_ds))\n",
    "print(f'Shape of validation set of frames: {test_frames.shape}')\n",
    "print(f'Shape of validation labels: {test_labels.shape}')"
   ]
  },
  {
   "cell_type": "code",
   "execution_count": 20,
   "metadata": {},
   "outputs": [
    {
     "name": "stdout",
     "output_type": "stream",
     "text": [
      "\u001b[1m295/295\u001b[0m \u001b[32m━━━━━━━━━━━━━━━━━━━━\u001b[0m\u001b[37m\u001b[0m \u001b[1m182s\u001b[0m 597ms/step - accuracy: 0.8552 - loss: 0.6187\n"
     ]
    },
    {
     "data": {
      "text/plain": [
       "[0.3896147310733795, 0.8847457766532898]"
      ]
     },
     "execution_count": 20,
     "metadata": {},
     "output_type": "execute_result"
    }
   ],
   "source": [
    "from keras.models import load_model\n",
    "\n",
    "model = load_model(f\"saved_models\\RNN_GeneralFrame.keras\")\n",
    "model.evaluate(test_ds)"
   ]
  },
  {
   "cell_type": "code",
   "execution_count": null,
   "metadata": {},
   "outputs": [],
   "source": []
  }
 ],
 "metadata": {
  "kernelspec": {
   "display_name": "Python 3",
   "language": "python",
   "name": "python3"
  },
  "language_info": {
   "codemirror_mode": {
    "name": "ipython",
    "version": 3
   },
   "file_extension": ".py",
   "mimetype": "text/x-python",
   "name": "python",
   "nbconvert_exporter": "python",
   "pygments_lexer": "ipython3",
   "version": "3.11.8"
  }
 },
 "nbformat": 4,
 "nbformat_minor": 2
}
