{
 "cells": [
  {
   "cell_type": "markdown",
   "source": [
    "### SET PARAMETERS"
   ],
   "metadata": {
    "collapsed": false
   },
   "id": "2ccf01a504c0a997"
  },
  {
   "cell_type": "code",
   "outputs": [],
   "source": [
    "from pathlib import Path\n",
    "\n",
    "# DATA SETTINGS\n",
    "TRAIN_PATH = Path('data/vids/split/train')\n",
    "TEST_PATH = Path('data/vids/split/test')\n",
    "FRAMES_PER_VIDEO = 10\n",
    "IMG_SIZE = 256\n",
    "\n",
    "# TRAINING SETTINGS\n",
    "MODEL_NAME = \"MAX\"\n",
    "EPOCHS = 1\n",
    "BATCH_SIZE = 2\n",
    "OPTIMIZER = \"adam\"\n",
    "PRETRAINED = False"
   ],
   "metadata": {
    "collapsed": false
   },
   "id": "99fc8718a128d440",
   "execution_count": null
  },
  {
   "cell_type": "markdown",
   "source": [
    "### LOAD DATA"
   ],
   "metadata": {
    "collapsed": false
   },
   "id": "2248aea501d9db15"
  },
  {
   "cell_type": "code",
   "outputs": [],
   "source": [
    "import tensorflow as tf\n",
    "from src.datagen import FrameGenerator\n",
    "\n",
    "# CREATE TRAINING DATASET\n",
    "output_signature = (tf.TensorSpec(shape = (FRAMES_PER_VIDEO, IMG_SIZE, IMG_SIZE, 3), \n",
    "                                  dtype = tf.float32), tf.TensorSpec(shape = (1), dtype = tf.int16))\n",
    "train_ds = tf.data.Dataset.from_generator(FrameGenerator(TRAIN_PATH, FRAMES_PER_VIDEO, (IMG_SIZE, IMG_SIZE), training=True),\n",
    "                                          output_signature = output_signature)\n",
    "\n",
    "# CREATE TESTING DATASET\n",
    "test_ds = tf.data.Dataset.from_generator(FrameGenerator(TEST_PATH, FRAMES_PER_VIDEO, (IMG_SIZE, IMG_SIZE), training=False),output_signature = output_signature)\n",
    "\n",
    "# ADD BATCH DIMENSION (IF USING TIME DIM)\n",
    "train_ds = train_ds.batch(BATCH_SIZE)\n",
    "test_ds = test_ds.batch(BATCH_SIZE)\n",
    "\n",
    "# VERIFY DATA HAS CORRECT SHAPE\n",
    "train_frames, train_labels = next(iter(train_ds))\n",
    "print(f'Shape of training set of frames: {train_frames.shape}')\n",
    "print(f'Shape of training labels: {train_labels.shape}')\n",
    "\n",
    "test_frames, test_labels = next(iter(test_ds))\n",
    "print(f'Shape of validation set of frames: {test_frames.shape}')\n",
    "print(f'Shape of validation labels: {test_labels.shape}')"
   ],
   "metadata": {
    "collapsed": false
   },
   "id": "882ae3259cef0106",
   "execution_count": null
  },
  {
   "cell_type": "markdown",
   "source": [
    "### INITIALIZE MODEL"
   ],
   "metadata": {
    "collapsed": false
   },
   "id": "a7a8443b7829b00d"
  },
  {
   "cell_type": "code",
   "outputs": [],
   "source": [
    "from src.models import get_mouthnet_model, get_mesonet_model\n",
    "from src.custom_model_max import get_cnn_rnn_hybrid\n",
    "from src.train import load_model_from_path\n",
    "\n",
    "if not PRETRAINED:\n",
    "    # LOAD NEW MODEL\n",
    "    model = get_cnn_rnn_hybrid()\n",
    "else:\n",
    "    # LOAD MODEL WEIGHTS FROM FILE\n",
    "    model = load_model_from_path(f\"saved_models/{MODEL_NAME}.keras\")\n",
    "    model.summary()"
   ],
   "metadata": {
    "collapsed": false
   },
   "id": "4566b44a7c651b81",
   "execution_count": null
  },
  {
   "cell_type": "markdown",
   "source": [
    "### TRAIN MODEL\n",
    "Will automatically save model (under saved_models/MODEL_NAME.keras) whenever new maximum validation accuracy reached."
   ],
   "metadata": {
    "collapsed": false
   },
   "id": "3ac0188641d78ae0"
  },
  {
   "cell_type": "code",
   "outputs": [],
   "source": [
    "from src.train import prep_and_train_model, save_history\n",
    "from time import perf_counter\n",
    "\n",
    "start = perf_counter()\n",
    "\n",
    "history, model = prep_and_train_model(\n",
    "    model=model,\n",
    "    optim=OPTIMIZER,\n",
    "    train_data=train_ds,\n",
    "    test_data=test_ds,\n",
    "    epochs=EPOCHS,\n",
    "    batch_size=BATCH_SIZE,\n",
    "    model_name=MODEL_NAME\n",
    ")\n",
    "\n",
    "print(f\"TOTAL TRAIN TIME: {perf_counter() - start}\")\n",
    "\n",
    "# SAVE HISTORY TO FILE\n",
    "save_history(history, MODEL_NAME)"
   ],
   "metadata": {
    "collapsed": false
   },
   "id": "d795a732963807af",
   "execution_count": null
  },
  {
   "cell_type": "markdown",
   "source": [
    "### VISUALIZE TRAINING HISTORY"
   ],
   "metadata": {
    "collapsed": false
   },
   "id": "75f8143f424caa15"
  },
  {
   "cell_type": "code",
   "outputs": [],
   "source": [
    "import matplotlib.pyplot as plt\n",
    "\n",
    "# NOTE: ONLY WORKS FOR MULTIPLE EPOCHS\n",
    "\n",
    "# PLOT ACCURACY\n",
    "plt.plot(history.history['accuracy'])\n",
    "plt.plot(history.history['val_accuracy'])\n",
    "plt.title('model accuracy')\n",
    "plt.ylabel('accuracy')\n",
    "plt.xlabel('epoch')\n",
    "plt.legend(['train', 'test'], loc='upper left')\n",
    "plt.show()\n",
    "# PLOT LOSS\n",
    "plt.plot(history.history['loss'])\n",
    "plt.plot(history.history['val_loss'])\n",
    "plt.title('model loss')\n",
    "plt.ylabel('loss')\n",
    "plt.xlabel('epoch')\n",
    "plt.legend(['train', 'test'], loc='upper left')\n",
    "plt.show()"
   ],
   "metadata": {
    "collapsed": false
   },
   "id": "1c588863798dc0a0",
   "execution_count": null
  },
  {
   "cell_type": "code",
   "outputs": [],
   "source": [],
   "metadata": {
    "collapsed": false
   },
   "id": "7e420be5e044969d",
   "execution_count": null
  }
 ],
 "metadata": {
  "kernelspec": {
   "display_name": "Python 3",
   "language": "python",
   "name": "python3"
  },
  "language_info": {
   "codemirror_mode": {
    "name": "ipython",
    "version": 2
   },
   "file_extension": ".py",
   "mimetype": "text/x-python",
   "name": "python",
   "nbconvert_exporter": "python",
   "pygments_lexer": "ipython2",
   "version": "2.7.6"
  }
 },
 "nbformat": 4,
 "nbformat_minor": 5
}
